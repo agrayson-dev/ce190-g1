{
  "nbformat": 4,
  "nbformat_minor": 0,
  "metadata": {
    "colab": {
      "provenance": []
    },
    "kernelspec": {
      "name": "python3",
      "display_name": "Python 3"
    },
    "language_info": {
      "name": "python"
    }
  },
  "cells": [
    {
      "cell_type": "markdown",
      "source": [
        "**Importing packages & Uploading files from our github repository**"
      ],
      "metadata": {
        "id": "rgmMYFrOewoI"
      }
    },
    {
      "cell_type": "code",
      "source": [
        "!pip install fiona\n",
        "!pip install geopandas\n",
        "!pip install statsmodels\n",
        "!pip install adjustText"
      ],
      "metadata": {
        "id": "yOkh1FkeWySq"
      },
      "execution_count": null,
      "outputs": []
    },
    {
      "cell_type": "code",
      "source": [
        "import pandas as pd\n",
        "import numpy as np\n",
        "import seaborn as sns\n",
        "import re\n",
        "import requests\n",
        "import io\n",
        "import fiona\n",
        "import matplotlib as pm\n",
        "from sklearn.preprocessing import scale\n",
        "import folium\n",
        "import ipywidgets as widgets\n",
        "from IPython import display\n",
        "from mpl_toolkits.axes_grid1 import make_axes_locatable\n",
        "%matplotlib inline\n",
        "import matplotlib.pyplot as plt\n",
        "plt.style.use('fivethirtyeight')\n",
        "%matplotlib inline\n",
        "import statsmodels.api as sm\n",
        "import geopandas as gpd\n",
        "import functools as ft\n",
        "from tabulate import tabulate\n",
        "from matplotlib.colors import LinearSegmentedColormap\n",
        "from adjustText import adjust_text\n",
        "from matplotlib.lines import Line2D\n",
        "from sklearn.linear_model import LinearRegression"
      ],
      "metadata": {
        "id": "MS5mlHh2e3uJ"
      },
      "execution_count": null,
      "outputs": []
    },
    {
      "cell_type": "code",
      "source": [
        "url1 = 'https://media.githubusercontent.com/media/agrayson-dev/ce190-g1/main/SAC_CITY_TRACT_ZIP_122021.csv'\n",
        "url2 = 'https://media.githubusercontent.com/media/agrayson-dev/ce190-g1/main/Sac_City_Zips.csv'\n",
        "url3 = 'https://media.githubusercontent.com/media/agrayson-dev/ce190-g1/main/TTS_LBNL_public_file_07-Sep-2022_all.csv'\n",
        "url4 = 'https://media.githubusercontent.com/media/agrayson-dev/ce190-g1/main/Zip_Zoning_Intersect.csv'\n",
        "url5 = 'https://media.githubusercontent.com/media/agrayson-dev/ce190-g1/main/CensusTract_SacramentoEnergyBurden.csv'\n",
        "url6 = 'https://media.githubusercontent.com/media/agrayson-dev/ce190-g1/main/ces_demog_indicators.csv'\n",
        "url7 = 'https://media.githubusercontent.com/media/agrayson-dev/ce190-g1/main/ces_enviro_indicators.csv'\n",
        "\n",
        "tracttozip = pd.read_csv(url1, index_col=0)\n",
        "saczips = pd.read_csv(url2, index_col=0, header = 0)\n",
        "saczoning_zip = pd.read_csv(url4, index_col=0)\n",
        "sac_eb = pd.read_csv(url5, index_col=0)"
      ],
      "metadata": {
        "id": "vyeztO7_fTEp"
      },
      "execution_count": null,
      "outputs": []
    },
    {
      "cell_type": "code",
      "source": [
        "sac_eb.dtypes"
      ],
      "metadata": {
        "id": "dRhLtJ-woH-j"
      },
      "execution_count": null,
      "outputs": []
    },
    {
      "cell_type": "markdown",
      "source": [
        "**Data Cleaning**"
      ],
      "metadata": {
        "id": "xaneehzQfghj"
      }
    },
    {
      "cell_type": "code",
      "source": [
        "#Sacramento City Zoning by Zipcode\n",
        "saczoning_zip.rename(columns={'Zip 5':'zip'}, inplace=True)\n",
        "saczoning_zip = pd.merge(saczoning_zip, tracttozip, on='zip')\n",
        "saccityzoning = saczoning_zip.groupby(['zip','DESCRIPTION'],as_index=False)[[\"Area in Square Miles\"]].sum()\n",
        "scz = pd.pivot(saccityzoning, index='zip', columns='DESCRIPTION')[['Area in Square Miles']]\n",
        "scz = scz.fillna(0)\n",
        "scz['Total']= scz.sum(axis=1)\n",
        "scz_perc_full = scz.loc[:,\"Agricultural Zone\":\"Transportation Corridor Zone\"].div(scz[\"Total\"], axis=0)*100\n",
        "scz_perc_full.columns=scz_perc_full.columns.droplevel(0)\n",
        "scz_perc_full.reset_index(inplace = True)\n",
        "scz_perc_full.columns\n",
        "saczips.columns"
      ],
      "metadata": {
        "id": "Vm9eOBDgf23p"
      },
      "execution_count": null,
      "outputs": []
    },
    {
      "cell_type": "code",
      "source": [
        "scz_perc = scz_perc_full.drop(scz_perc_full.loc[:,'Agricultural Zone':'Central Business District Zone'].columns, axis=1)\n",
        "scz_perc = scz_perc_full.drop(scz_perc_full.loc[:,'Heavy Industrial Zone':'Manufacturing-Industrial Park Zone'].columns, axis=1)\n",
        "scz_perc.columns"
      ],
      "metadata": {
        "id": "YZimdjqtsr4P"
      },
      "execution_count": null,
      "outputs": []
    },
    {
      "cell_type": "code",
      "source": [
        "#Energy Burden by Zipcode\n",
        "eb_zip = pd.merge(tracttozip, sac_eb, on='tract')\n",
        "ebavg_zip = eb_zip.groupby('zip_x')[[\"Avg. Energy Burden (% income)\"]].mean()\n",
        "ebavg_zip.reset_index(inplace = True)\n",
        "ebavg_zip.rename(columns={'zip_x':'zip'}, inplace=True)\n",
        "ebavg_zip.head()"
      ],
      "metadata": {
        "id": "uz9IyxSWgBZa"
      },
      "execution_count": null,
      "outputs": []
    },
    {
      "cell_type": "code",
      "source": [
        "# Demographic Data (CalEnviroScreen)\n",
        "ces_demog = pd.read_csv(url6, index_col=0, skiprows=1)\n",
        "ces_demog.reset_index(inplace = True)\n",
        "ces_demog.rename(columns={'Census Tract':'tract'}, inplace=True)\n",
        "ces_demog = pd.merge(tracttozip, ces_demog, on='tract')\n",
        "ces_envir = pd.read_csv(url7, index_col=0)\n",
        "ces_envir.rename(columns={'ZIP':'zip'}, inplace=True)\n",
        "ces_envir = pd.merge(ces_envir, tracttozip, on='zip')\n",
        "ces_envir = ces_envir.drop(ces_envir.loc[:,'Ozone':'Solid Waste Pctl'].columns, axis=1)\n",
        "ces_envir = ces_envir.drop(ces_envir.loc[:,'Asthma':'Cardiovascular Disease Pctl'].columns, axis=1)\n",
        "ces_envir = ces_envir.drop(ces_envir.loc[:,'Pop. Char. ':'tot_ratio'].columns, axis=1)\n",
        "ces_demog = ces_demog.drop(ces_demog.loc[:,'usps_zip_pref_city':'California County'].columns, axis=1)\n",
        "ces_demog = (ces_demog.groupby('zip', as_index=False)\n",
        "       .agg({'Total Population':'sum', 'Children < 10 years (%)':'mean','Pop 10-64 years (%)':'mean','Elderly > 64 years (%)':'mean','Hispanic (%)':'mean','White (%)':'mean','African American (%)':'mean','Native American (%)':'mean','Asian American (%)':'mean','Other/Multiple (%)':'mean'}))\n",
        "ces_demog.loc[:,'Children < 10 years (%)':'Other/Multiple (%)'] = ces_demog.loc[:,'Children < 10 years (%)':'Other/Multiple (%)'] / 100\n",
        "ces_demog.columns = ces_demog.columns.str.rstrip('(%)')\n",
        "ces_envir = (ces_envir.groupby('zip', as_index=False)\n",
        "       .agg({'CES 4.0 Score':'mean', 'CES 4.0 Percentile':'mean','Pollution Burden':'mean','Pollution Burden Score':'mean','Pollution Burden Pctl':'mean','Education':'mean','Education Pctl':'mean','Linguistic Isolation':'mean','Linguistic Isolation Pctl':'mean','Poverty':'mean','Poverty Pctl':'mean','Unemployment':'mean','Unemployment Pctl':'mean','Housing Burden':'mean','Housing Burden Pctl':'mean'}))\n",
        "ces_envir.columns=ces_envir.columns.map(lambda x : x+'(%)' if x not in ('zip','CES 4.0 Score', 'CES 4.0 Percentile','Pollution Burden Score','Pollution Burden Pctl','Education Pctl','Linguistic Isolation Pctl','Poverty Pctl','Unemployment Pctl','Housing Burden Pctl')  else x )\n",
        "ces_envir.head()"
      ],
      "metadata": {
        "id": "Rp5t7BAf2Tjo"
      },
      "execution_count": null,
      "outputs": []
    },
    {
      "cell_type": "code",
      "source": [
        "#Solar Data (Tracking the Sun)\n",
        "tts = pd.read_csv(url3, index_col=0)\n",
        "tts.rename(columns={'zip_code':'zip'}, inplace=True)\n",
        "tts = pd.merge(tts, tracttozip, on='zip')\n",
        "tts.columns"
      ],
      "metadata": {
        "id": "pz-IT1F17p1x"
      },
      "execution_count": null,
      "outputs": []
    },
    {
      "cell_type": "code",
      "source": [
        "tts_sac = tts.drop(tts.loc[:,'azimuth_1':'tot_ratio'].columns, axis=1)\n",
        "zip_solarfreq = tts['zip'].value_counts()\n",
        "zip_solarfreq = zip_solarfreq.to_frame().reset_index()\n",
        "zip_solarfreq.rename(columns={'index':'zip','zip':'solarfreq'}, inplace=True)\n",
        "zip_solarfreq.head(20)\n",
        "print(tabulate(zip_solarfreq, headers='firstrow', tablefmt='fancy_grid'))"
      ],
      "metadata": {
        "id": "89LWjxfgC_SX"
      },
      "execution_count": null,
      "outputs": []
    },
    {
      "cell_type": "code",
      "source": [
        "#merge energy burden, zoning, solar freq, demographic datasets by zip\n",
        "finaldfs = [zip_solarfreq, ebavg_zip, scz_perc, ces_envir, ces_demog]\n",
        "finaldata_append = ft.reduce(lambda left, right: pd.merge(left, right, on='zip'), finaldfs)\n",
        "finaldata_append['total_burden'] = finaldata_append['Housing Burden(%)'] + finaldata_append['Avg. Energy Burden (% income)']\n",
        "TB = finaldata_append[\"total_burden\"]\n",
        "solar_zoning = pd.merge(zip_solarfreq, scz_perc, on='zip')\n",
        "sbdf = [zip_solarfreq, ebavg_zip, ces_envir]\n",
        "solar_burdens = ft.reduce(lambda left, right: pd.merge(left, right, on='zip'), sbdf)\n",
        "solar_burdens.insert(1, \"total_burden\", TB)\n",
        "solar_demog = pd.merge(zip_solarfreq, ces_demog, on='zip')\n",
        "finaldata_append.columns"
      ],
      "metadata": {
        "id": "7TKwZ3o4eLVe"
      },
      "execution_count": null,
      "outputs": []
    },
    {
      "cell_type": "markdown",
      "source": [
        "**Generating Background Plots**"
      ],
      "metadata": {
        "id": "Rb6_EZbVd-UU"
      }
    },
    {
      "cell_type": "code",
      "source": [
        "#solar adoption by zip code\n",
        "plt.figure(figsize=(7,4))\n",
        "plt.title(\"Sacramento Solar Adoption by Zipcode\")\n",
        "sns.barplot(x=\"zip\", y=\"solarfreq\", data=zip_solarfreq, color='turquoise');\n",
        "plt.ylabel(\"Count of Properties with Rooftop Solar\")\n",
        "plt.tick_params(axis='x', labelrotation = 50)\n",
        "plt.savefig('solar_count_zip_bar.png')"
      ],
      "metadata": {
        "id": "cj3F6c0V5ZMm"
      },
      "execution_count": null,
      "outputs": []
    },
    {
      "cell_type": "code",
      "source": [
        "#bar plot of energy burden by zip code\n",
        "plt.figure(figsize=(7,4))\n",
        "plt.title(\"Sacramento Energy Burden by Zipcode\")\n",
        "sns.barplot(x=\"zip\", y=\"Avg. Energy Burden (% income)\", data=ebavg_zip, color='green');\n",
        "plt.tick_params(axis=\"x\", labelrotation = 50)\n",
        "plt.savefig('energy_burden_zip_bar.png')"
      ],
      "metadata": {
        "id": "zxk6jcCi46an"
      },
      "execution_count": null,
      "outputs": []
    },
    {
      "cell_type": "code",
      "source": [
        "#stacked bar plot for zoning type by zip code\n",
        "colors = [\"#009c3f\", \"#e526e0\", \"#16da2d\", \"#530091\", \"#6dde5b\", \"#013cbd\", \"#99bd00\", \"#151671\", \"#ffa226\", \"#c581ff\", \"#758200\", \"#c20075\", \"#00ac75\", \"#fc3f00\", \"#3edae0\", \"#be0000\", \"#008566\", \"#ff5a5c\", \"#005696\",\n",
        "\"#d3c95c\", \"#4a0440\", \"#795a00\", \"#bcb8ff\", \"#810100\", \"#1a2d00\", \"#a90049\", \"#f8b5b5\", \"#6a001a\", \"#ff9490\", \"#5d343f\"]\n",
        "stac = scz_perc_full.plot(x='zip', kind='bar', stacked=True,\n",
        "        title='Zone Type Make Up per Zip Code', color=colors)\n",
        "plt.savefig('zipzone_makeup.png')\n",
        "box = stac.get_position()\n",
        "stac.set_position([box.x0, box.y0 + box.height * 0.1,\n",
        "                 box.width, box.height * 0.9])\n",
        "stac.legend(loc='upper center', bbox_to_anchor=(0.5, -0.25),\n",
        "          fancybox=True, shadow=True, ncol=5)\n",
        "plt.show()"
      ],
      "metadata": {
        "id": "LWeV9hw95va2"
      },
      "execution_count": null,
      "outputs": []
    },
    {
      "cell_type": "code",
      "source": [
        "#single variate regression analyses - solar (and zip code) as a function of demographic indicators - same as heatmap outputs, different method\n",
        "standardisedX = scale(finaldata_append)\n",
        "standardisedX = pd.DataFrame(standardisedX, index=finaldata_append.index, columns=finaldata_append.columns)\n",
        "X = standardisedX[['White ']]\n",
        "X1 = standardisedX[['African American ']]\n",
        "X2 = standardisedX[['Native American ']]\n",
        "X3 = standardisedX[['Hispanic ']]\n",
        "X4 = standardisedX[['Asian American ']]\n",
        "X5 = standardisedX[['Other/Multiple ']]\n",
        "X6 = standardisedX[['Children < 10 years ']]\n",
        "X7 = standardisedX[['Pop 10-64 years ']]\n",
        "X8 = standardisedX[['Elderly > 64 years ']]\n",
        "y = standardisedX[['solarfreq']]\n",
        "y1 = standardisedX[['zip']]\n",
        "ols_reg_white = sm.OLS(y, X).fit()\n",
        "ols_reg_aa = sm.OLS(y, X1).fit()\n",
        "ols_reg_ind = sm.OLS(y, X2).fit()\n",
        "ols_reg_hisp = sm.OLS(y, X3).fit()\n",
        "ols_reg_asian = sm.OLS(y, X4).fit()\n",
        "ols_reg_other = sm.OLS(y, X5).fit()\n",
        "ols_reg_children = sm.OLS(y, X6).fit()\n",
        "ols_reg_mid = sm.OLS(y, X7).fit()\n",
        "ols_reg_elder = sm.OLS(y, X8).fit()\n",
        "ols_reg_whitezip = sm.OLS(y1, X).fit()\n",
        "ols_reg_aazip = sm.OLS(y1, X1).fit()\n",
        "ols_reg_indzip = sm.OLS(y1, X2).fit()\n",
        "ols_reg_hispzip = sm.OLS(y1, X3).fit()\n",
        "ols_reg_asianzip = sm.OLS(y1, X4).fit()\n",
        "ols_reg_otherzip = sm.OLS(y1, X5).fit()\n",
        "print(ols_reg_elder.summary())\n",
        "plt.rc('figure', figsize=(12, 7))\n",
        "plt.text(0.01, 0.05, str(ols_reg_white.summary()), {'fontsize': 10}, fontproperties = 'monospace') # approach improved by OP -> monospace!\n",
        "plt.axis('off')\n",
        "plt.tight_layout()\n",
        "plt.savefig('ols_reg_white.png')"
      ],
      "metadata": {
        "id": "UCFRvPBLe50L"
      },
      "execution_count": null,
      "outputs": []
    },
    {
      "cell_type": "code",
      "source": [
        "#unpack the demographics of the one zip code with insanely high adoption\n",
        "plt.text(15+0.2, 22, \"95831\", horizontalalignment='left', size='medium', color='black', weight='semibold')\n",
        "sns.scatterplot(\n",
        "x='total_burden',\n",
        "y='Poverty(%)',\n",
        "hue = 'solarfreq',\n",
        "data=finaldata_append)"
      ],
      "metadata": {
        "id": "BMFNFzq65p7Y"
      },
      "execution_count": null,
      "outputs": []
    },
    {
      "cell_type": "code",
      "source": [
        "#correlation plots\n",
        "corr1 = solar_burdens.corr()\n",
        "plt.figure(figsize=(16,5))\n",
        "sns.heatmap(corr1, cmap=\"Reds\", annot=True);\n",
        "plt.tick_params(axis='x')\n",
        "plt.savefig('correlation_plot.png', bbox_inches='tight')"
      ],
      "metadata": {
        "id": "QJ8xg4tzyZcv"
      },
      "execution_count": null,
      "outputs": []
    },
    {
      "cell_type": "code",
      "source": [
        "corr2 = solar_zoning.corr()\n",
        "plt.figure(figsize=(16,5))\n",
        "sns.heatmap(corr2, cmap=\"Reds\", annot=True);\n",
        "plt.savefig('solar_zoning_corrl.png', bbox_inches='tight')"
      ],
      "metadata": {
        "id": "v4HfjWnvvAA-"
      },
      "execution_count": null,
      "outputs": []
    },
    {
      "cell_type": "markdown",
      "source": [
        "**Cal Enviro Screen**"
      ],
      "metadata": {
        "id": "lAGPkHvhKez3"
      }
    },
    {
      "cell_type": "markdown",
      "source": [
        "Environmental Indicators"
      ],
      "metadata": {
        "id": "sfRrYvCufoSj"
      }
    },
    {
      "cell_type": "code",
      "source": [
        " %%html\n",
        " <iframe src=\"https://drive.google.com/file/d/1XlDhkMnHqfdkGHZBsZgoDRBKOhcYul41/preview\" width=\"640\" height=\"480\" allow=\"autoplay\"></iframe>"
      ],
      "metadata": {
        "id": "lQOk3edVD4-i"
      },
      "execution_count": null,
      "outputs": []
    },
    {
      "cell_type": "markdown",
      "source": [
        "Demographic Indicators"
      ],
      "metadata": {
        "id": "Fy_VSSWxFDHm"
      }
    },
    {
      "cell_type": "code",
      "source": [
        "%%html\n",
        "<iframe src=\"https://drive.google.com/file/d/1KFj-6VO3LKZosNwAb3H8aFzj5i5WvLp4/preview\" width=\"640\" height=\"480\" allow=\"autoplay\"></iframe>"
      ],
      "metadata": {
        "id": "i2nfLFMSEFkk"
      },
      "execution_count": null,
      "outputs": []
    },
    {
      "cell_type": "markdown",
      "source": [
        "**Geospatial Analysis**"
      ],
      "metadata": {
        "id": "YVvETEdt9X_2"
      }
    },
    {
      "cell_type": "code",
      "source": [
        "#Loading in Zip Zoning shapefile from OpenData Sacramento\n",
        "url = 'https://github.com/agrayson-dev/ce190-g1/blob/main/Intersect_of_Zip_Codes_and_Zoning%20(1).zip?raw=true'\n",
        "request = requests.get(url)\n",
        "b = bytes(request.content)\n",
        "with fiona.BytesCollection(b) as f:\n",
        "    crs = f.crs\n",
        "    sac_shp = gpd.GeoDataFrame.from_features(f, crs=crs)\n",
        "sac_shp.dtypes"
      ],
      "metadata": {
        "id": "KR50otD0pL-1"
      },
      "execution_count": null,
      "outputs": []
    },
    {
      "cell_type": "code",
      "source": [
        "#Merge CSV data to shapefile\n",
        "sac_shp.rename(columns={'ZIP5':'zip'}, inplace=True)\n",
        "finaldata_append['zip'] = finaldata_append['zip'].apply(lambda x: str(x))\n",
        "final_shp = finaldata_append.merge(sac_shp, on='zip', how='left')\n",
        "#final_shp.head()\n",
        "final_shp = gpd.GeoDataFrame(final_shp, geometry='geometry')\n",
        "final_shp.plot();"
      ],
      "metadata": {
        "id": "GbBALoeQG-0q"
      },
      "execution_count": null,
      "outputs": []
    },
    {
      "cell_type": "code",
      "source": [
        "fig, ax = plt.subplots(figsize = (10, 10))\n",
        "divider = make_axes_locatable(ax)\n",
        "cax = divider.append_axes(\"right\", size=\"5%\", pad=0.1)\n",
        "\n",
        "#map % MFH by zip code\n",
        "final_shp.plot(column=\"Multi-Unit Dwelling Zone\", ax=ax, legend = True, cax=cax, cmap = 'tab20');\n",
        "ax.set_title('MFH by zip code')\n",
        "plt.show()\n",
        "plt.savefig('MFH_zipmap.png', bbox_inches='tight')\n"
      ],
      "metadata": {
        "id": "qGif0MceHC0_"
      },
      "execution_count": null,
      "outputs": []
    },
    {
      "cell_type": "code",
      "source": [
        "#map % Energy Burden by zip code\n",
        "fig, ax = plt.subplots(figsize = (10, 10))\n",
        "divider = make_axes_locatable(ax)\n",
        "cax = divider.append_axes(\"right\", size=\"5%\", pad=0.1)\n",
        "\n",
        "final_shp.plot(column=\"Avg. Energy Burden (% income)\", ax=ax, legend = True, cax=cax, cmap = 'coolwarm');\n",
        "ax.set_title('Energy Burden by Zip Code (% income)')\n",
        "plt.savefig('EB_zipmap.png', bbox_inches='tight')\n",
        "plt.show()"
      ],
      "metadata": {
        "id": "hk8DcCP_aCUA"
      },
      "execution_count": null,
      "outputs": []
    },
    {
      "cell_type": "code",
      "source": [
        "#map Solar Frequency by zip code\n",
        "df=final_shp\n",
        "df[\"solar_percap\"]=df[\"solarfreq\"]/df[\"Total Population\"]\n",
        "print(df)\n",
        "fig, ax = plt.subplots(figsize = (10, 10))\n",
        "divider = make_axes_locatable(ax)\n",
        "cax = divider.append_axes(\"right\", size=\"5%\", pad=0.1)\n",
        "\n",
        "final_shp.plot(column=\"solar_percap\", ax=ax, legend = True, cax=cax, cmap = 'coolwarm');\n",
        "ax.set_title('Count of Properties with Rooftop Solar Per Capita')\n",
        "plt.savefig('SF_zipmap.png', bbox_inches='tight')\n",
        "plt.show()"
      ],
      "metadata": {
        "id": "6LYmYk6RHlhe"
      },
      "execution_count": null,
      "outputs": []
    }
  ]
}